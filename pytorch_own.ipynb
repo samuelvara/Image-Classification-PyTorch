{
 "cells": [
  {
   "cell_type": "code",
   "execution_count": 49,
   "metadata": {},
   "outputs": [
    {
     "name": "stderr",
     "output_type": "stream",
     "text": [
      "c:\\Users\\samuel\\pyenv\\torch_gpu1\\lib\\site-packages\\tqdm\\auto.py:21: TqdmWarning: IProgress not found. Please update jupyter and ipywidgets. See https://ipywidgets.readthedocs.io/en/stable/user_install.html\n",
      "  from .autonotebook import tqdm as notebook_tqdm\n"
     ]
    }
   ],
   "source": [
    "import os\n",
    "import cv2\n",
    "import numpy as np \n",
    "from tqdm.auto import tqdm \n",
    "import pickle\n",
    "from collections import defaultdict"
   ]
  },
  {
   "cell_type": "code",
   "execution_count": 80,
   "metadata": {},
   "outputs": [],
   "source": [
    "REBUILD = False\n",
    "\n",
    "CATS = '.\\kagglecatsanddogs_5340\\PetImages\\Cat'\n",
    "DOGS = '.\\kagglecatsanddogs_5340\\PetImages\\Dog'\n",
    "LABELS = {CATS:0, DOGS:1}\n",
    "REV_LABELS = {0:'Cat', 1:'Dog'}\n",
    "\n",
    "IMG_SIZE = 50\n",
    "\n",
    "class DogsvCats:  \n",
    "    def __init__(self, test_split=0.2, validation_split=0.1):\n",
    "        self.test_split = test_split\n",
    "        self.val_split = validation_split\n",
    "        self.total_data = []\n",
    "        self.train_data = []\n",
    "        self.test_data = []\n",
    "        self.validation_data = []\n",
    "        self.counts = defaultdict(int)\n",
    "    \n",
    "    def train_val_test_split(self):\n",
    "        for label in self.LABELS:\n",
    "            print(label)\n",
    "            for file in tqdm(os.listdir(label)):\n",
    "                try:\n",
    "                    image = cv2.imread(os.path.join(label, file), cv2.IMREAD_GRAYSCALE)                    \n",
    "                    image = cv2.resize(image, (self.IMG_SIZE, self.IMG_SIZE))\n",
    "                    self.total_data.append((np.array(image), np.eye(2)[self.LABELS[label]]))\n",
    "                    self.counts[label] += 1\n",
    "                except Exception as e:\n",
    "                    pass\n",
    "        np.random.shuffle(self.total_data)\n",
    "        \n",
    "        print(self.counts)\n",
    "\n",
    "        self.train_data = self.total_data[:-int(self.test_split * len(self.total_data))]\n",
    "        self.test_data = self.total_data[-int(self.test_split * len(self.total_data)):]\n",
    "\n",
    "        self.train_data = self.train_data[:-int(self.val_split * len(self.train_data))]\n",
    "        self.validation_data = self.train_data[-int(self.val_split * len(self.train_data)):]\n",
    "\n",
    "        print('Training Data:', len(self.train_data))\n",
    "        print('Validation Data:', len(self.validation_data))\n",
    "        print('Testing Data:', len(self.test_data))\n",
    "\n",
    "        with open(\"./data/training_data.pkl\", \"wb\") as f:\n",
    "            pickle.dump(self.train_data, f)\n",
    "\n",
    "        with open(\"./data/testing_data.pkl\", \"wb\") as f:\n",
    "            pickle.dump(self.test_data, f)\n",
    "\n",
    "        with open(\"./data/validation_data.pkl\", \"wb\") as f:\n",
    "            pickle.dump(self.validation_data, f)\n",
    "\n",
    "if REBUILD:\n",
    "    dogsvcats = DogsvCats()\n",
    "    dogsvcats.train_val_test_split()"
   ]
  },
  {
   "cell_type": "code",
   "execution_count": 25,
   "metadata": {},
   "outputs": [],
   "source": [
    "training_data = np.load(\"./data/training_data.pkl\", allow_pickle=True)\n",
    "testing_data = np.load(\"./data/testing_data.pkl\", allow_pickle=True)\n",
    "validation_data = np.load(\"./data/validation_data.pkl\", allow_pickle=True)"
   ]
  },
  {
   "cell_type": "code",
   "execution_count": 73,
   "metadata": {},
   "outputs": [
    {
     "name": "stdout",
     "output_type": "stream",
     "text": [
      "17962\n",
      "4989\n",
      "1796\n"
     ]
    }
   ],
   "source": [
    "print(len(training_data))\n",
    "print(len(testing_data))\n",
    "print(len(validation_data))"
   ]
  },
  {
   "cell_type": "code",
   "execution_count": 26,
   "metadata": {},
   "outputs": [
    {
     "name": "stdout",
     "output_type": "stream",
     "text": [
      "[[171 146 153 ... 202 190 208]\n",
      " [176 144 151 ... 200 191 208]\n",
      " [162 133 144 ... 201 191 206]\n",
      " ...\n",
      " [209 180 221 ... 183 150 157]\n",
      " [170 197 152 ... 182 158 210]\n",
      " [255 186 182 ... 132 191 235]]\n",
      "[0. 1.]\n"
     ]
    },
    {
     "data": {
      "image/png": "[encoded data removed]",
      "text/plain": [
       "<Figure size 640x480 with 1 Axes>"
      ]
     },
     "metadata": {},
     "output_type": "display_data"
    }
   ],
   "source": [
    "import matplotlib.pyplot as plt\n",
    "\n",
    "print(training_data[0][0])\n",
    "plt.imshow(training_data[0][0])\n",
    "\n",
    "print(training_data[0][1])"
   ]
  },
  {
   "cell_type": "code",
   "execution_count": 45,
   "metadata": {},
   "outputs": [
    {
     "name": "stdout",
     "output_type": "stream",
     "text": [
      "Training Data torch.Size([17962, 1, 50, 50]) torch.Size([17962, 2])\n",
      "Testing Data torch.Size([4989, 1, 50, 50]) torch.Size([4989, 2])\n",
      "Validation Data torch.Size([1796, 1, 50, 50]) torch.Size([1796, 2])\n"
     ]
    }
   ],
   "source": [
    "import torch\n",
    "\n",
    "IMG_SIZE = IMG_SIZE\n",
    "\n",
    "X_train = torch.Tensor(np.array([img.reshape(1, IMG_SIZE, IMG_SIZE) for img, label in training_data]))/255.0\n",
    "y_train = torch.Tensor(np.array([label for img, label in training_data]))\n",
    "\n",
    "X_test = torch.Tensor(np.array([img.reshape(1, IMG_SIZE, IMG_SIZE) for img, label in testing_data]))/255.0\n",
    "y_test = torch.Tensor(np.array([label for img, label in testing_data]))\n",
    "\n",
    "X_val = torch.Tensor(np.array([img.reshape(1, IMG_SIZE, IMG_SIZE) for img, label in validation_data]))/255.0\n",
    "y_val = torch.Tensor(np.array([label for img, label in validation_data]))\n",
    "\n",
    "print('Training Data', X_train.shape, y_train.shape)\n",
    "print('Testing Data', X_test.shape, y_test.shape)\n",
    "print('Validation Data', X_val.shape, y_val.shape)"
   ]
  },
  {
   "cell_type": "code",
   "execution_count": 28,
   "metadata": {},
   "outputs": [
    {
     "name": "stdout",
     "output_type": "stream",
     "text": [
      "Running on GPU\n"
     ]
    }
   ],
   "source": [
    "if torch.cuda.is_available():\n",
    "    device = torch.device('cuda:0')\n",
    "    print('Running on GPU')\n",
    "else:\n",
    "    device = torch.device('cpu')\n",
    "    print('Running on GPU')"
   ]
  },
  {
   "cell_type": "code",
   "execution_count": 72,
   "metadata": {},
   "outputs": [
    {
     "name": "stdout",
     "output_type": "stream",
     "text": [
      "CNN(\n",
      "  (conv1): Conv2d(1, 32, kernel_size=(5, 5), stride=(1, 1))\n",
      "  (conv2): Conv2d(32, 64, kernel_size=(5, 5), stride=(1, 1))\n",
      "  (conv3): Conv2d(64, 128, kernel_size=(5, 5), stride=(1, 1))\n",
      "  (fc1): Linear(in_features=512, out_features=512, bias=True)\n",
      "  (fc2): Linear(in_features=512, out_features=2, bias=True)\n",
      ")\n",
      "torch.Size([17962, 1, 50, 50]) torch.Size([17962, 2]) torch.Size([1796, 1, 50, 50]) torch.Size([1796, 2])\n"
     ]
    },
    {
     "name": "stderr",
     "output_type": "stream",
     "text": [
      "100%|██████████| 2246/2246 [00:09<00:00, 227.12it/s]\n"
     ]
    },
    {
     "name": "stdout",
     "output_type": "stream",
     "text": [
      "Epoch 1 Train Accuracy: 54.352 Train Loss: 0.246 Val Accuracy: 65.145 Val Loss: 0.222\n"
     ]
    },
    {
     "name": "stderr",
     "output_type": "stream",
     "text": [
      "100%|██████████| 2246/2246 [00:09<00:00, 239.53it/s]\n"
     ]
    },
    {
     "name": "stdout",
     "output_type": "stream",
     "text": [
      "Epoch 2 Train Accuracy: 65.411 Train Loss: 0.217 Val Accuracy: 73.274 Val Loss: 0.179\n"
     ]
    },
    {
     "name": "stderr",
     "output_type": "stream",
     "text": [
      "100%|██████████| 2246/2246 [00:09<00:00, 241.22it/s]\n"
     ]
    },
    {
     "name": "stdout",
     "output_type": "stream",
     "text": [
      "Epoch 3 Train Accuracy: 71.85 Train Loss: 0.186 Val Accuracy: 78.953 Val Loss: 0.152\n"
     ]
    },
    {
     "name": "stderr",
     "output_type": "stream",
     "text": [
      "100%|██████████| 2246/2246 [00:09<00:00, 243.04it/s]\n"
     ]
    },
    {
     "name": "stdout",
     "output_type": "stream",
     "text": [
      "Epoch 4 Train Accuracy: 75.941 Train Loss: 0.165 Val Accuracy: 82.127 Val Loss: 0.132\n"
     ]
    }
   ],
   "source": [
    "import torch\n",
    "import torch.nn as nn \n",
    "import torch.nn.functional as F \n",
    "import torch.optim as optim\n",
    "from torch.utils.data import DataLoader, TensorDataset\n",
    "\n",
    "class CNN(nn.Module):\n",
    "    def __init__(self):\n",
    "        super().__init__()\n",
    "        self.conv1 = nn.Conv2d(1, 32, 5)\n",
    "        self.conv2 = nn.Conv2d(32, 64, 5)\n",
    "        self.conv3 = nn.Conv2d(64, 128, 5)\n",
    "\n",
    "        out_size = self.forward(torch.randn(1, 1, 50, 50), True)[1]\n",
    "\n",
    "        self.fc1 = nn.Linear(out_size, 512)\n",
    "        self.fc2 = nn.Linear(512, 2)\n",
    "    \n",
    "    def forward(self, x, find=False):\n",
    "        x = F.max_pool2d(F.relu(self.conv1(x)), (2,2))\n",
    "        x = F.max_pool2d(F.relu(self.conv2(x)), (2,2))\n",
    "        x = F.max_pool2d(F.relu(self.conv3(x)), (2,2))\n",
    "        x = x.flatten(start_dim=1)\n",
    "        if find:\n",
    "            return x.shape\n",
    "\n",
    "        x = F.relu(self.fc1(x))\n",
    "        x = self.fc2(x)\n",
    "\n",
    "        return F.softmax(x, dim=1)\n",
    "\n",
    "net = CNN()\n",
    "net.to(device)\n",
    "optimizer = optim.Adam(net.parameters(), lr=0.001)\n",
    "loss_fun = nn.MSELoss()\n",
    "print(net)\n",
    "\n",
    "\n",
    "def train(X, y, X_val=X_val, y_val=y_val):\n",
    "    BATCH_SIZE = 8\n",
    "    EPOCHS = 4\n",
    "\n",
    "    print(X.shape, y.shape, X_val.shape, y_val.shape)\n",
    "    dataset = TensorDataset(X, y)\n",
    "    dataloader = DataLoader(dataset, batch_size=BATCH_SIZE, shuffle=False)           \n",
    "    X_val = X_val.to(device)\n",
    "    y_val = y_val.to(device)\n",
    "\n",
    "    for epoch in range(EPOCHS):\n",
    "        train_acc_list = []\n",
    "        train_loss_list = []\n",
    "        for X_batch, y_batch in tqdm(dataloader):\n",
    "            X_batch = X_batch.to(device)\n",
    "            y_batch = y_batch.to(device)\n",
    "\n",
    "            \n",
    "\n",
    "            net.zero_grad()\n",
    "\n",
    "            outputs = net(X_batch)\n",
    "            loss = loss_fun(outputs, y_batch)\n",
    "\n",
    "            train_acc_list.append(np.mean([int(torch.argmax(y_pred) == torch.argmax(y_true)) for y_pred, y_true in zip(outputs, y_batch)]))\n",
    "            train_loss_list.append(float(loss))\n",
    "\n",
    "            loss.backward()\n",
    "            optimizer.step()\n",
    "            \n",
    "        train_acc = np.mean(train_acc_list)\n",
    "        train_loss = np.mean(train_loss_list)\n",
    "\n",
    "        val_outputs = net(X_val)\n",
    "        val_acc = np.mean([int(torch.argmax(y_pred) == torch.argmax(y_true)) for y_pred, y_true in zip(val_outputs, y_val)])\n",
    "        val_loss = float(loss_fun(val_outputs, y_val))\n",
    "\n",
    "        print('Epoch', epoch+1, 'Train Accuracy:', round(train_acc*100, 3), 'Train Loss:', round(train_loss, 3), 'Val Accuracy:', round(val_acc*100, 3), 'Val Loss:', round(val_loss, 3))\n",
    "\n",
    "\n",
    "train(X_train, y_train)"
   ]
  },
  {
   "cell_type": "code",
   "execution_count": 122,
   "metadata": {},
   "outputs": [
    {
     "name": "stdout",
     "output_type": "stream",
     "text": [
      "Dog\n",
      "Cat\n"
     ]
    },
    {
     "data": {
      "image/png": "[encoded data removed]",
      "text/plain": [
       "<Figure size 640x480 with 1 Axes>"
      ]
     },
     "metadata": {},
     "output_type": "display_data"
    }
   ],
   "source": [
    "idx = 98\n",
    "\n",
    "plt.imshow(X_test[idx].reshape(50,50,1))\n",
    "\n",
    "print(REV_LABELS[int(torch.argmax(y_test[idx]))])\n",
    "\n",
    "net.to('cpu')\n",
    "with torch.no_grad():\n",
    "    y_pred = REV_LABELS[int(torch.argmax(net(X_test[idx].reshape(-1, 1, 50, 50))))]\n",
    "\n",
    "print(y_pred)"
   ]
  },
  {
   "cell_type": "code",
   "execution_count": 101,
   "metadata": {},
   "outputs": [
    {
     "name": "stdout",
     "output_type": "stream",
     "text": [
      "Testing Acc 73.4 Testing Loss 0.179\n"
     ]
    }
   ],
   "source": [
    "def test(X, y):\n",
    "    net.to(device)\n",
    "    BATCH_SIZE = 16\n",
    "\n",
    "    dataset = TensorDataset(X, y)\n",
    "    dataloader = DataLoader(dataset, batch_size=BATCH_SIZE, shuffle=True)           \n",
    "\n",
    "    test_acc = []\n",
    "    test_loss = []\n",
    "    with torch.no_grad():\n",
    "        for X_batch, y_batch in dataloader:\n",
    "            X_batch = X_batch.to(device)\n",
    "            y_batch = y_batch.to(device)\n",
    "\n",
    "            outputs = net(X_batch)\n",
    "            loss = loss_fun(outputs, y_batch)\n",
    "\n",
    "            test_acc.append(np.mean([int(torch.argmax(y_pred) == torch.argmax(y)) for y_pred, y in zip(outputs, y_batch)]))\n",
    "            test_loss.append(float(loss))\n",
    "\n",
    "        print('Testing Acc', round(np.mean(test_acc), 3)*100, 'Testing Loss', round(np.mean(test_loss), 3))\n",
    "\n",
    "test(X_test, y_test)"
   ]
  }
 ],
 "metadata": {
  "kernelspec": {
   "display_name": "torch_gpu1",
   "language": "python",
   "name": "python3"
  },
  "language_info": {
   "codemirror_mode": {
    "name": "ipython",
    "version": 3
   },
   "file_extension": ".py",
   "mimetype": "text/x-python",
   "name": "python",
   "nbconvert_exporter": "python",
   "pygments_lexer": "ipython3",
   "version": "3.9.9"
  },
  "orig_nbformat": 4
 },
 "nbformat": 4,
 "nbformat_minor": 2
}
